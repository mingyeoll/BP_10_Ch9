{
  "nbformat": 4,
  "nbformat_minor": 0,
  "metadata": {
    "colab": {
      "provenance": [],
      "authorship_tag": "ABX9TyM3jm6PDZfN1DgHels11NWr",
      "include_colab_link": true
    },
    "kernelspec": {
      "name": "python3",
      "display_name": "Python 3"
    },
    "language_info": {
      "name": "python"
    }
  },
  "cells": [
    {
      "cell_type": "markdown",
      "metadata": {
        "id": "view-in-github",
        "colab_type": "text"
      },
      "source": [
        "<a href=\"https://colab.research.google.com/github/mingyeoll/BP_10_Ch9/blob/main/BP_10_EX_Ch9_ipynb%EC%9D%98_%EC%82%AC%EB%B3%B8.ipynb\" target=\"_parent\"><img src=\"https://colab.research.google.com/assets/colab-badge.svg\" alt=\"Open In Colab\"/></a>"
      ]
    },
    {
      "cell_type": "code",
      "execution_count": null,
      "metadata": {
        "colab": {
          "base_uri": "https://localhost:8080/"
        },
        "id": "VdWqHuqp__5i",
        "outputId": "9f9c7eb6-02cd-4f63-94fa-9a50e866e28d"
      },
      "outputs": [
        {
          "output_type": "stream",
          "name": "stdout",
          "text": [
            "정수를 입력하시오: 10\n",
            "정수를 입력하시오: 20\n",
            "정수를 입력하시오: 30\n",
            "정수를 입력하시오: 40\n",
            "정수를 입력하시오: 50\n",
            "평균= 30.0\n"
          ]
        }
      ],
      "source": [
        "alist = []\n",
        "sum = 0\n",
        "\n",
        "for i in range(5):   # 5번까지 반복 \n",
        "   i = int(input(\"정수를 입력하시오: \"))\n",
        "   alist.append(i)\n",
        "for i in alist:\n",
        "  sum += i\n",
        "avg = sum/len(alist)\n",
        "print(\"평균=\", avg)"
      ]
    },
    {
      "cell_type": "code",
      "source": [
        "import random\n",
        "counters = [0, 0, 0, 0, 0, 0] #리스트 생성\n",
        "\n",
        "for i in range(1000):  #반복문 1000번 반복\n",
        "  value = random.randint(0, 5)   # 0~5까지 무작위 수 지정\n",
        "  counters[value] = counters[value] + 1   # 생성된 숫자를 카운트\n",
        "\n",
        "for i in range(6) :\n",
        "  print(\"주사위가 \", i+1, \"인 경우는 \", counters[i], \"번\")"
      ],
      "metadata": {
        "colab": {
          "base_uri": "https://localhost:8080/"
        },
        "id": "Sw-lJl2cBQSW",
        "outputId": "a2eadda9-d01b-42fa-e794-b1bb3cf7f22c"
      },
      "execution_count": null,
      "outputs": [
        {
          "output_type": "stream",
          "name": "stdout",
          "text": [
            "주사위가  1 인 경우는  166 번\n",
            "주사위가  2 인 경우는  176 번\n",
            "주사위가  3 인 경우는  170 번\n",
            "주사위가  4 인 경우는  177 번\n",
            "주사위가  5 인 경우는  154 번\n",
            "주사위가  6 인 경우는  157 번\n"
          ]
        }
      ]
    },
    {
      "cell_type": "code",
      "source": [
        "def inputData(): \n",
        "    while True:\n",
        "        name = input(\"(입력모드)이름을 입력하시오: \")\n",
        "        if not name: break;\n",
        "        tel = input(\"전화번호를 입력하시오: \") \n",
        "\n",
        "        contact[name] = tel\n",
        "        \n",
        "def select(): \n",
        "    while True:\n",
        "        name = input(\"(검색모드)이름을 입력하시오: \")\n",
        "        \n",
        "        if not name: break;\n",
        "        print(name,\"의 전화번호는\",contact[name],\"입니다.\")\n",
        "        \n",
        "contact = {}\n",
        "\n",
        "while True:\n",
        "    inputData()\n",
        "    select()"
      ],
      "metadata": {
        "colab": {
          "base_uri": "https://localhost:8080/",
          "height": 832
        },
        "id": "AWbL7raJBamr",
        "outputId": "96cec512-d516-4d3b-b1b0-f9c89efd9d3f"
      },
      "execution_count": 41,
      "outputs": [
        {
          "name": "stdout",
          "output_type": "stream",
          "text": [
            "(입력모드)이름을 입력하시오: 김민결\n",
            "전화번호를 입력하시오: 01020271251\n",
            "(입력모드)이름을 입력하시오: 홍길동\n",
            "전화번호를 입력하시오: 01012345678\n",
            "(입력모드)이름을 입력하시오: 김민결\n",
            "전화번호를 입력하시오: 012658899\n",
            "(입력모드)이름을 입력하시오: 홍길동\n",
            "전화번호를 입력하시오: 16151151\n",
            "(입력모드)이름을 입력하시오: 이아렁\n",
            "전화번호를 입력하시오: 565665\n",
            "(입력모드)이름을 입력하시오: 이니낭\n",
            "전화번호를 입력하시오: 56855\n",
            "(입력모드)이름을 입력하시오: 어래앵\n",
            "전화번호를 입력하시오: ㅇ56565\n",
            "(입력모드)이름을 입력하시오: ㅇ\n",
            "전화번호를 입력하시오: ㅇ\n",
            "(입력모드)이름을 입력하시오: ㅇㅇㅇ\n",
            "전화번호를 입력하시오: ㅇㅇㅇ\n",
            "(입력모드)이름을 입력하시오: ㅇㅇㅇㅇ\n",
            "전화번호를 입력하시오: 01012345678\n",
            "(입력모드)이름을 입력하시오: 홍길동\n",
            "전화번호를 입력하시오: 123322\n",
            "(입력모드)이름을 입력하시오: ㅇㅇㅇㅇ\n",
            "전화번호를 입력하시오: 55555'\n"
          ]
        },
        {
          "output_type": "error",
          "ename": "KeyboardInterrupt",
          "evalue": "ignored",
          "traceback": [
            "\u001b[0;31m---------------------------------------------------------------------------\u001b[0m",
            "\u001b[0;31mKeyboardInterrupt\u001b[0m                         Traceback (most recent call last)",
            "\u001b[0;32m<ipython-input-41-72b88ae4bf5a>\u001b[0m in \u001b[0;36m<module>\u001b[0;34m\u001b[0m\n\u001b[1;32m     17\u001b[0m \u001b[0;34m\u001b[0m\u001b[0m\n\u001b[1;32m     18\u001b[0m \u001b[0;32mwhile\u001b[0m \u001b[0;32mTrue\u001b[0m\u001b[0;34m:\u001b[0m\u001b[0;34m\u001b[0m\u001b[0;34m\u001b[0m\u001b[0m\n\u001b[0;32m---> 19\u001b[0;31m     \u001b[0minputData\u001b[0m\u001b[0;34m(\u001b[0m\u001b[0;34m)\u001b[0m\u001b[0;34m\u001b[0m\u001b[0;34m\u001b[0m\u001b[0m\n\u001b[0m\u001b[1;32m     20\u001b[0m     \u001b[0mselect\u001b[0m\u001b[0;34m(\u001b[0m\u001b[0;34m)\u001b[0m\u001b[0;34m\u001b[0m\u001b[0;34m\u001b[0m\u001b[0m\n",
            "\u001b[0;32m<ipython-input-41-72b88ae4bf5a>\u001b[0m in \u001b[0;36minputData\u001b[0;34m()\u001b[0m\n\u001b[1;32m      1\u001b[0m \u001b[0;32mdef\u001b[0m \u001b[0minputData\u001b[0m\u001b[0;34m(\u001b[0m\u001b[0;34m)\u001b[0m\u001b[0;34m:\u001b[0m\u001b[0;34m\u001b[0m\u001b[0;34m\u001b[0m\u001b[0m\n\u001b[1;32m      2\u001b[0m     \u001b[0;32mwhile\u001b[0m \u001b[0;32mTrue\u001b[0m\u001b[0;34m:\u001b[0m\u001b[0;34m\u001b[0m\u001b[0;34m\u001b[0m\u001b[0m\n\u001b[0;32m----> 3\u001b[0;31m         \u001b[0mname\u001b[0m \u001b[0;34m=\u001b[0m \u001b[0minput\u001b[0m\u001b[0;34m(\u001b[0m\u001b[0;34m\"(입력모드)이름을 입력하시오: \"\u001b[0m\u001b[0;34m)\u001b[0m\u001b[0;34m\u001b[0m\u001b[0;34m\u001b[0m\u001b[0m\n\u001b[0m\u001b[1;32m      4\u001b[0m         \u001b[0;32mif\u001b[0m \u001b[0;32mnot\u001b[0m \u001b[0mname\u001b[0m\u001b[0;34m:\u001b[0m \u001b[0;32mbreak\u001b[0m\u001b[0;34m;\u001b[0m\u001b[0;34m\u001b[0m\u001b[0;34m\u001b[0m\u001b[0m\n\u001b[1;32m      5\u001b[0m         \u001b[0mtel\u001b[0m \u001b[0;34m=\u001b[0m \u001b[0minput\u001b[0m\u001b[0;34m(\u001b[0m\u001b[0;34m\"전화번호를 입력하시오: \"\u001b[0m\u001b[0;34m)\u001b[0m\u001b[0;34m\u001b[0m\u001b[0;34m\u001b[0m\u001b[0m\n",
            "\u001b[0;32m/usr/local/lib/python3.7/dist-packages/ipykernel/kernelbase.py\u001b[0m in \u001b[0;36mraw_input\u001b[0;34m(self, prompt)\u001b[0m\n\u001b[1;32m    861\u001b[0m             \u001b[0mself\u001b[0m\u001b[0;34m.\u001b[0m\u001b[0m_parent_ident\u001b[0m\u001b[0;34m,\u001b[0m\u001b[0;34m\u001b[0m\u001b[0;34m\u001b[0m\u001b[0m\n\u001b[1;32m    862\u001b[0m             \u001b[0mself\u001b[0m\u001b[0;34m.\u001b[0m\u001b[0m_parent_header\u001b[0m\u001b[0;34m,\u001b[0m\u001b[0;34m\u001b[0m\u001b[0;34m\u001b[0m\u001b[0m\n\u001b[0;32m--> 863\u001b[0;31m             \u001b[0mpassword\u001b[0m\u001b[0;34m=\u001b[0m\u001b[0;32mFalse\u001b[0m\u001b[0;34m,\u001b[0m\u001b[0;34m\u001b[0m\u001b[0;34m\u001b[0m\u001b[0m\n\u001b[0m\u001b[1;32m    864\u001b[0m         )\n\u001b[1;32m    865\u001b[0m \u001b[0;34m\u001b[0m\u001b[0m\n",
            "\u001b[0;32m/usr/local/lib/python3.7/dist-packages/ipykernel/kernelbase.py\u001b[0m in \u001b[0;36m_input_request\u001b[0;34m(self, prompt, ident, parent, password)\u001b[0m\n\u001b[1;32m    902\u001b[0m             \u001b[0;32mexcept\u001b[0m \u001b[0mKeyboardInterrupt\u001b[0m\u001b[0;34m:\u001b[0m\u001b[0;34m\u001b[0m\u001b[0;34m\u001b[0m\u001b[0m\n\u001b[1;32m    903\u001b[0m                 \u001b[0;31m# re-raise KeyboardInterrupt, to truncate traceback\u001b[0m\u001b[0;34m\u001b[0m\u001b[0;34m\u001b[0m\u001b[0;34m\u001b[0m\u001b[0m\n\u001b[0;32m--> 904\u001b[0;31m                 \u001b[0;32mraise\u001b[0m \u001b[0mKeyboardInterrupt\u001b[0m\u001b[0;34m(\u001b[0m\u001b[0;34m\"Interrupted by user\"\u001b[0m\u001b[0;34m)\u001b[0m \u001b[0;32mfrom\u001b[0m \u001b[0;32mNone\u001b[0m\u001b[0;34m\u001b[0m\u001b[0;34m\u001b[0m\u001b[0m\n\u001b[0m\u001b[1;32m    905\u001b[0m             \u001b[0;32mexcept\u001b[0m \u001b[0mException\u001b[0m \u001b[0;32mas\u001b[0m \u001b[0me\u001b[0m\u001b[0;34m:\u001b[0m\u001b[0;34m\u001b[0m\u001b[0;34m\u001b[0m\u001b[0m\n\u001b[1;32m    906\u001b[0m                 \u001b[0mself\u001b[0m\u001b[0;34m.\u001b[0m\u001b[0mlog\u001b[0m\u001b[0;34m.\u001b[0m\u001b[0mwarning\u001b[0m\u001b[0;34m(\u001b[0m\u001b[0;34m\"Invalid Message:\"\u001b[0m\u001b[0;34m,\u001b[0m \u001b[0mexc_info\u001b[0m\u001b[0;34m=\u001b[0m\u001b[0;32mTrue\u001b[0m\u001b[0;34m)\u001b[0m\u001b[0;34m\u001b[0m\u001b[0;34m\u001b[0m\u001b[0m\n",
            "\u001b[0;31mKeyboardInterrupt\u001b[0m: Interrupted by user"
          ]
        }
      ]
    },
    {
      "cell_type": "code",
      "source": [
        "domains={ \"kr\": \"대한민국\", \"us\": \"미국\",\"jp\": \"일본\", \"de\": \"독일\", \"sk\": \"슬로바키야\", \"hu\": \"헝가리\", \"no\": \"노르웨이\" }\n",
        "\n",
        "for k, v in domains.items():\n",
        "  print(k, \": \", v)"
      ],
      "metadata": {
        "colab": {
          "base_uri": "https://localhost:8080/"
        },
        "id": "Vh4PDjfqmrdb",
        "outputId": "5b2adc87-4932-477c-bd2e-7a5c2dc24db5"
      },
      "execution_count": 37,
      "outputs": [
        {
          "output_type": "stream",
          "name": "stdout",
          "text": [
            "kr : 대한민국\n",
            "sk : 슬로바키아\n",
            "no : 노르웨이\n",
            "us : 미국\n",
            "jp : 일본\n",
            "de : 독일\n"
          ]
        }
      ]
    },
    {
      "cell_type": "code",
      "source": [
        "problems={\"파이썬\":\"최근에 가장떠오르는 프로그래밍 언어\",\"변수\":\"데이터를 저장하는 메모리 공간\",\"함수\":\"작업을 수행하는 문장들의 집합에 이름을 붙인 것\",\"리스트\":\"서로 관련이 없는 항목들의 모임\"}\n",
        "for k,v in problems.items(): \n",
        "    print(v)\n",
        "    print(\"다음은 어떤 단어에 대한 설명일까요?\")\n",
        "    print(\"(1)파이썬 (2)함수 (3)리스트 (4)변수\")\n",
        "    ans=input()\n",
        "    if ans==k:\n",
        "        print(\"정답입니다!\")\n",
        "    else:\n",
        "        print(\"틀렸습니다\")"
      ],
      "metadata": {
        "colab": {
          "base_uri": "https://localhost:8080/"
        },
        "id": "JdvdCW2snC1k",
        "outputId": "71b1da03-e733-4d7f-d6c1-f2bbf90d3dd6"
      },
      "execution_count": 38,
      "outputs": [
        {
          "output_type": "stream",
          "name": "stdout",
          "text": [
            "최근에 가장떠오르는 프로그래밍 언어\n",
            "다음은 어떤 단어에 대한 설명일까요?\n",
            "(1)파이썬 (2)함수 (3)리스트 (4)변수\n",
            "파이썬\n",
            "정답입니다!\n",
            "데이터를 저장하는 메모리 공간\n",
            "다음은 어떤 단어에 대한 설명일까요?\n",
            "(1)파이썬 (2)함수 (3)리스트 (4)변수\n",
            "함수\n",
            "틀렸습니다\n",
            "작업을 수행하는 문장들의 집합에 이름을 붙인 것\n",
            "다음은 어떤 단어에 대한 설명일까요?\n",
            "(1)파이썬 (2)함수 (3)리스트 (4)변수\n",
            "변수\n",
            "틀렸습니다\n",
            "서로 관련이 없는 항목들의 모임\n",
            "다음은 어떤 단어에 대한 설명일까요?\n",
            "(1)파이썬 (2)함수 (3)리스트 (4)변수\n",
            "리스트\n",
            "정답입니다!\n"
          ]
        }
      ]
    }
  ]
}